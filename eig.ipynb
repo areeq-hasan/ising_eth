{
 "cells": [
  {
   "cell_type": "code",
   "execution_count": 1,
   "metadata": {},
   "outputs": [],
   "source": [
    "import numpy as np  # generic math functions\n",
    "from quspin.basis import spin_basis_1d  # Hilbert space spin basis\n",
    "from quspin.operators import hamiltonian"
   ]
  },
  {
   "cell_type": "code",
   "execution_count": null,
   "metadata": {},
   "outputs": [],
   "source": [
    "g = (np.sqrt(5) + 5) / 8\n",
    "h = (np.sqrt(5) + 1) / 4\n",
    "J = 1"
   ]
  },
  {
   "cell_type": "code",
   "execution_count": 4,
   "metadata": {},
   "outputs": [],
   "source": [
    "def eig(L, k):\n",
    "    basis = spin_basis_1d(L=L, kblock=k)\n",
    "    transverse_field = [[np.float64(g), i] for i in range(L)]\n",
    "    longitudinal_field = [[np.float64(h), i] for i in range(L)]\n",
    "    interaction = [[np.float64(J), i, (i + 1) % L] for i in range(L)]\n",
    "\n",
    "    H = hamiltonian(\n",
    "        [[\"x\", transverse_field], [\"z\", longitudinal_field], [\"zz\", interaction]],\n",
    "        [],\n",
    "        basis=basis,\n",
    "        check_symm=False,\n",
    "        check_herm=False,\n",
    "    )\n",
    "\n",
    "    energies, eigenstates = H.eigh()\n",
    "\n",
    "    with open(f\"data/eig/L={L}/L={L}_k={k}.npy\", \"wb\") as f:\n",
    "        np.save(f, energies)\n",
    "        np.save(f, eigenstates)"
   ]
  },
  {
   "cell_type": "code",
   "execution_count": null,
   "metadata": {},
   "outputs": [],
   "source": [
    "eig(L=16, k=1)"
   ]
  },
  {
   "cell_type": "code",
   "execution_count": null,
   "metadata": {},
   "outputs": [],
   "source": []
  }
 ],
 "metadata": {
  "kernelspec": {
   "display_name": "ising-eth-0xLeOPPz-py3.11",
   "language": "python",
   "name": "python3"
  },
  "language_info": {
   "codemirror_mode": {
    "name": "ipython",
    "version": 3
   },
   "file_extension": ".py",
   "mimetype": "text/x-python",
   "name": "python",
   "nbconvert_exporter": "python",
   "pygments_lexer": "ipython3",
   "version": "3.11.4"
  }
 },
 "nbformat": 4,
 "nbformat_minor": 2
}
